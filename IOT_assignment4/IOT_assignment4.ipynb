{
  "nbformat": 4,
  "nbformat_minor": 0,
  "metadata": {
    "colab": {
      "provenance": []
    },
    "kernelspec": {
      "name": "python3",
      "display_name": "Python 3"
    },
    "language_info": {
      "name": "python"
    }
  },
  "cells": [
    {
      "cell_type": "code",
      "execution_count": 10,
      "metadata": {
        "colab": {
          "base_uri": "https://localhost:8080/"
        },
        "id": "18ZOE05VMVpF",
        "outputId": "b564304d-bedb-4216-9e28-1dcd509fc9bb"
      },
      "outputs": [
        {
          "output_type": "stream",
          "name": "stdout",
          "text": [
            "SJF Non-Preemptive Scheduling:\n",
            "Process\tWaiting Time\tTurnaround Time\n",
            "D\t0\t\t15\n",
            "B\t25\t\t45\n",
            "A\t55\t\t85\n",
            "C\t70\t\t110\n",
            "Average Waiting Time: 37.5\n",
            "Average Turnaround Time: 63.75\n"
          ]
        }
      ],
      "source": [
        "def sjfNonpremetive(arr):\n",
        "    SIZE = len(arr)\n",
        "\n",
        "    # Used to sort the processes according to burst time\n",
        "    for i in range(SIZE - 1):\n",
        "        index = i\n",
        "        for j in range(i + 1, SIZE):\n",
        "            if arr[j][2] < arr[index][2]:  # Compare based on burst time (arr[j][2])\n",
        "                index = j\n",
        "\n",
        "        arr[i], arr[index] = arr[index], arr[i]\n",
        "\n",
        "    # Initialize variables for tracking time and waiting time\n",
        "    total_time = 0\n",
        "    waiting_time = [0] * SIZE\n",
        "    turnaround_time = [0] * SIZE\n",
        "\n",
        "    for i in range(SIZE):\n",
        "        process = arr[i]\n",
        "        if process[1] > total_time:\n",
        "            total_time = process[1]\n",
        "        waiting_time[i] = total_time - process[1]\n",
        "        total_time += process[2]\n",
        "        turnaround_time[i] = total_time - process[1]\n",
        "\n",
        "    # Calculate the total waiting time and total turnaround time\n",
        "    total_waiting_time = sum(waiting_time)\n",
        "    total_turnaround_time = sum(turnaround_time)\n",
        "\n",
        "    # Calculate the average waiting time and average turnaround time\n",
        "    avg_waiting_time = total_waiting_time / SIZE\n",
        "    avg_turnaround_time = total_turnaround_time / SIZE\n",
        "\n",
        "    print(\"SJF Non-Preemptive Scheduling:\")\n",
        "    print(\"Process\\tWaiting Time\\tTurnaround Time\")\n",
        "\n",
        "    # Print the waiting time and turnaround time for each process\n",
        "    for i in range(SIZE):\n",
        "        print(f\"{arr[i][0]}\\t{waiting_time[i]}\\t\\t{turnaround_time[i]}\")\n",
        "\n",
        "    # Print the average waiting time and average turnaround time\n",
        "    print(f\"Average Waiting Time: {avg_waiting_time}\")\n",
        "    print(f\"Average Turnaround Time: {avg_turnaround_time}\")\n",
        "\n",
        "if __name__ == \"__main__\":\n",
        "    processes = [\n",
        "        (\"A\", 0, 30, 3),\n",
        "        (\"B\", 10, 20, 1),\n",
        "        (\"C\", 15, 40, 4),\n",
        "        (\"D\", 20, 15, 2)\n",
        "    ]\n",
        "\n",
        "    sjfNonpremetive(processes)\n"
      ]
    },
    {
      "cell_type": "code",
      "source": [
        "def fcfs(arr):\n",
        "    SIZE = len(arr)\n",
        "\n",
        "    # Used to sort the processes according to arrival time (not needed for FCFS)\n",
        "    # For FCFS, processes are scheduled in the order they appear in the list\n",
        "\n",
        "    # Initialize variables for tracking time and waiting time\n",
        "    total_time = 0\n",
        "    waiting_time = [0] * SIZE\n",
        "    turnaround_time = [0] * SIZE\n",
        "\n",
        "    for i in range(SIZE):\n",
        "        process = arr[i]\n",
        "        if process[1] > total_time:\n",
        "            total_time = process[1]\n",
        "        waiting_time[i] = total_time - process[1]\n",
        "        total_time += process[2]\n",
        "        turnaround_time[i] = total_time - process[1]\n",
        "\n",
        "    # Calculate the total waiting time and total turnaround time\n",
        "    total_waiting_time = sum(waiting_time)\n",
        "    total_turnaround_time = sum(turnaround_time)\n",
        "\n",
        "    # Calculate the average waiting time and average turnaround time\n",
        "    avg_waiting_time = total_waiting_time / SIZE\n",
        "    avg_turnaround_time = total_turnaround_time / SIZE\n",
        "\n",
        "    print(\"FCFS Scheduling:\")\n",
        "    print(\"Process\\tWaiting Time\\tTurnaround Time\")\n",
        "\n",
        "    # Print the waiting time and turnaround time for each process\n",
        "    for i in range(SIZE):\n",
        "        print(f\"{arr[i][0]}\\t{waiting_time[i]}\\t\\t{turnaround_time[i]}\")\n",
        "\n",
        "    # Print the average waiting time and average turnaround time\n",
        "    print(f\"Average Waiting Time: {avg_waiting_time}\")\n",
        "    print(f\"Average Turnaround Time: {avg_turnaround_time}\")\n",
        "\n",
        "if __name__ == \"__main__\":\n",
        "    processes = [\n",
        "        (\"A\", 0, 30, 3),\n",
        "        (\"B\", 10, 20, 1),\n",
        "        (\"C\", 15, 40, 4),\n",
        "        (\"D\", 20, 15, 2)\n",
        "    ]\n",
        "\n",
        "    fcfs(processes)\n"
      ],
      "metadata": {
        "colab": {
          "base_uri": "https://localhost:8080/"
        },
        "id": "ybDSGQ_TNC_x",
        "outputId": "a7b1bf37-824c-45c9-d747-f942da5438bb"
      },
      "execution_count": 11,
      "outputs": [
        {
          "output_type": "stream",
          "name": "stdout",
          "text": [
            "FCFS Scheduling:\n",
            "Process\tWaiting Time\tTurnaround Time\n",
            "A\t0\t\t30\n",
            "B\t20\t\t40\n",
            "C\t35\t\t75\n",
            "D\t70\t\t85\n",
            "Average Waiting Time: 31.25\n",
            "Average Turnaround Time: 57.5\n"
          ]
        }
      ]
    },
    {
      "cell_type": "code",
      "source": [
        "def priorityNonpremetive(arr):\n",
        "    SIZE = len(arr)\n",
        "\n",
        "    # Used to sort the processes according to priority\n",
        "    for i in range(SIZE - 1):\n",
        "        index = i\n",
        "        for j in range(i + 1, SIZE):\n",
        "            if arr[j][3] < arr[index][3]:  # Compare based on priority (arr[j][3])\n",
        "                index = j\n",
        "\n",
        "        arr[i], arr[index] = arr[index], arr[i]\n",
        "\n",
        "    # Initialize variables for tracking time and waiting time\n",
        "    total_time = 0\n",
        "    waiting_time = [0] * SIZE\n",
        "    turnaround_time = [0] * SIZE\n",
        "\n",
        "    for i in range(SIZE):\n",
        "        process = arr[i]\n",
        "        if process[1] > total_time:\n",
        "            total_time = process[1]\n",
        "        waiting_time[i] = total_time - process[1]\n",
        "        total_time += process[2]\n",
        "        turnaround_time[i] = total_time - process[1]\n",
        "\n",
        "    # Calculate the total waiting time and total turnaround time\n",
        "    total_waiting_time = sum(waiting_time)\n",
        "    total_turnaround_time = sum(turnaround_time)\n",
        "\n",
        "    # Calculate the average waiting time and average turnaround time\n",
        "    avg_waiting_time = total_waiting_time / SIZE\n",
        "    avg_turnaround_time = total_turnaround_time / SIZE\n",
        "\n",
        "    print(\"Priority Scheduling Non-Preemptive:\")\n",
        "    print(\"Process\\tWaiting Time\\tTurnaround Time\")\n",
        "\n",
        "    # Print the waiting time and turnaround time for each process\n",
        "    for i in range(SIZE):\n",
        "        print(f\"{arr[i][0]}\\t{waiting_time[i]}\\t\\t{turnaround_time[i]}\")\n",
        "\n",
        "    # Print the average waiting time and average turnaround time\n",
        "    print(f\"Average Waiting Time: {avg_waiting_time}\")\n",
        "    print(f\"Average Turnaround Time: {avg_turnaround_time}\")\n",
        "\n",
        "if __name__ == \"__main__\":\n",
        "    processes = [\n",
        "        (\"A\", 0, 30, 3),\n",
        "        (\"B\", 10, 20, 1),\n",
        "        (\"C\", 15, 40, 4),\n",
        "        (\"D\", 20, 15, 2)\n",
        "    ]\n",
        "\n",
        "    priorityNonpremetive(processes)\n"
      ],
      "metadata": {
        "colab": {
          "base_uri": "https://localhost:8080/"
        },
        "id": "ZpSAg1qMNd9r",
        "outputId": "cef06289-4b8e-4e2c-db3a-36eadc614e44"
      },
      "execution_count": 12,
      "outputs": [
        {
          "output_type": "stream",
          "name": "stdout",
          "text": [
            "Priority Scheduling Non-Preemptive:\n",
            "Process\tWaiting Time\tTurnaround Time\n",
            "B\t0\t\t20\n",
            "D\t10\t\t25\n",
            "A\t45\t\t75\n",
            "C\t60\t\t100\n",
            "Average Waiting Time: 28.75\n",
            "Average Turnaround Time: 55.0\n"
          ]
        }
      ]
    },
    {
      "cell_type": "code",
      "source": [],
      "metadata": {
        "id": "ztypAS0HQ7cy"
      },
      "execution_count": null,
      "outputs": []
    }
  ]
}